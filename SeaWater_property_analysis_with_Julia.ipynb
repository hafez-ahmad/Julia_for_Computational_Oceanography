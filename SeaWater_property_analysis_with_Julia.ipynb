{
 "cells": [
  {
   "cell_type": "markdown",
   "metadata": {},
   "source": [
    "<b>Julia is a high level ,high performmance ,dynamic programming language. Today , I like to use Julia for sea water \n",
    "properties analysis. I have published a medium post over this with details explanation. I will use GibbsSeaWater julia package. Installation code here,\n",
    "    <br>\n",
    "    using Pkg <br>\n",
    "    Pkg.add(\"GibbsSeaWater\")\n",
    "    </b>\n",
    "    [here the my medium post link ](\"https://medium.com/@hafezahmad/analysis-of-seawater-property-with-julia-part1-83e416b5a987\")\n",
    "<h1>Contents of this Notebook</h1>\n",
    "<b><ol>\n",
    "    <li> Calculating practical salinity</li>\n",
    "    <li>Calculating conductivity from practical salinity</li>\n",
    "    <li>Calculating practical salinity from reference salinity</li>\n",
    "     <li>Calculating conservative temperature from in-situ temperature</li>\n",
    "     <li>Calculating potential temperature of ice from the potential enthalpy of ice</li>\n",
    "     <li> Calculating in-situ density, the appropriate thermal expansion coefficient, and the appropriate saline contraction coefficient of seawate</li>\n",
    "     <li> Calculating the potential density of anomaly with reference pressur</li>\n",
    "     <li>Calculating ratio of practical salinity to conservative temperature</li>\n",
    "     <li>Calculating conservative Temperature of the maximum density of seawater</li>\n",
    "     <li>Calculating latent heat of evaporation of water from seawater</li>\n",
    "</ol> </b>"
   ]
  },
  {
   "cell_type": "code",
   "execution_count": 4,
   "metadata": {},
   "outputs": [
    {
     "name": "stdout",
     "output_type": "stream",
     "text": [
      "Hello Julia, I want to analyze the sea water property "
     ]
    }
   ],
   "source": [
    "print(\"Hello Julia, I want to analyze the sea water property \")"
   ]
  },
  {
   "cell_type": "code",
   "execution_count": 17,
   "metadata": {},
   "outputs": [],
   "source": [
    "using GibbsSeaWater"
   ]
  },
  {
   "cell_type": "markdown",
   "metadata": {},
   "source": [
    "1. <b>Calculating practical salinity: Calculates Practical Salinity, SP, from conductivity, C, primarily using the PSS-78 algorithm</b>."
   ]
  },
  {
   "cell_type": "code",
   "execution_count": 21,
   "metadata": {},
   "outputs": [
    {
     "data": {
      "text/plain": [
       "3-element Array{Float64,1}:\n",
       " 60.205764250519124\n",
       " 55.90574352230805\n",
       " 59.15643355317229"
      ]
     },
     "execution_count": 21,
     "metadata": {},
     "output_type": "execute_result"
    }
   ],
   "source": [
    "C=[56.6, 56.0,57.7] #conductivity (mS/cm)\n",
    "T=[6.7,8.8,8.0] #in situ temperature[deg C]\n",
    "P=[10.0,50.0,125.0] #sea pressure [dbar]\n",
    "sp=gsw_sp_from_c.(C,T,P)"
   ]
  },
  {
   "cell_type": "markdown",
   "metadata": {},
   "source": [
    "<b>2. Calculating conductivity from practical salinity</b>\n"
   ]
  },
  {
   "cell_type": "code",
   "execution_count": 20,
   "metadata": {},
   "outputs": [
    {
     "data": {
      "text/plain": [
       "3-element Array{Float64,1}:\n",
       " 60.205764250519124\n",
       " 55.90574352230805\n",
       " 59.15643355317229"
      ]
     },
     "execution_count": 20,
     "metadata": {},
     "output_type": "execute_result"
    }
   ],
   "source": [
    "\n",
    "SP = [34.5487,34.7275,34.8605,34.6810, 34.5680, 34.5600,]\n",
    "t = [28.7856, 28.4329,22.8103, 10.2600, 6.8863, 4.4036,]\n",
    "p = [ 10,50,125,250,600,1000]\n",
    "c=gsw_c_from_sp.(SP,t,p)"
   ]
  },
  {
   "cell_type": "markdown",
   "metadata": {},
   "source": [
    "<b> 3.Calculating practical salinity from reference salinity</b>\n"
   ]
  },
  {
   "cell_type": "code",
   "execution_count": 25,
   "metadata": {},
   "outputs": [
    {
     "data": {
      "text/plain": [
       "3-element Array{Float64,1}:\n",
       " 28.76436369758146\n",
       " 28.26671034641223\n",
       " 34.06934842104544"
      ]
     },
     "execution_count": 25,
     "metadata": {},
     "output_type": "execute_result"
    }
   ],
   "source": [
    "sr =[28.9,28.4,34.23] #reference salinity\n",
    "sp=gsw_sp_from_sr.(sr)"
   ]
  },
  {
   "cell_type": "markdown",
   "metadata": {},
   "source": [
    "<b>4.Calculating conservative temperature from in-situ temperature</b>\n"
   ]
  },
  {
   "cell_type": "code",
   "execution_count": 26,
   "metadata": {},
   "outputs": [
    {
     "data": {
      "text/plain": [
       "2-element Array{Float64,1}:\n",
       " 28.813194838540284\n",
       " 22.388324558353194"
      ]
     },
     "execution_count": 26,
     "metadata": {},
     "output_type": "execute_result"
    }
   ],
   "source": [
    "sa=[34.5,34.8] # absolute salinity [g/kg]\n",
    "t=[28.78,22.39]\n",
    "p=[10.0,50.0]\n",
    "ct=gsw_ct_from_t.(sa,t,p)"
   ]
  },
  {
   "cell_type": "markdown",
   "metadata": {},
   "source": [
    "<b>5.Calculating potential temperature of ice from the potential enthalpy of ice</b>\n"
   ]
  },
  {
   "cell_type": "code",
   "execution_count": 27,
   "metadata": {},
   "outputs": [
    {
     "data": {
      "text/plain": [
       "2-element Array{Float64,1}:\n",
       "  -5.1206614327791815\n",
       " -13.002435627806364"
      ]
     },
     "execution_count": 27,
     "metadata": {},
     "output_type": "execute_result"
    }
   ],
   "source": [
    "p_en_ice=[-3.44e5,-3.6e5] # potential enthalpy of [j/kg]\n",
    "pto_ice=gsw_pt_from_pot_enthalpy_ice.(p_en_ice)"
   ]
  },
  {
   "cell_type": "markdown",
   "metadata": {},
   "source": [
    "<b>6.Calculating in-situ density, the appropriate thermal expansion coefficient, and the appropriate saline contraction coefficient of seawater</b>\n"
   ]
  },
  {
   "cell_type": "code",
   "execution_count": 32,
   "metadata": {},
   "outputs": [
    {
     "name": "stdout",
     "output_type": "stream",
     "text": [
      "[(1015.5685729873671, 0.000354907633029042, 0.0007107817598093406), (1011.1431663112612, 0.000350046257837302, 0.0007117665364787327)]\n"
     ]
    }
   ],
   "source": [
    "ct=[34.5,35.05] # conservative temperture\n",
    "sa=[28.8,22.7] # absolute salinity\n",
    "p=[10.0,50.0] # sea pressure\n",
    "rlb=gsw_rho_alpha_beta.(sa,ct,p)\n",
    "println(rlb)"
   ]
  },
  {
   "cell_type": "markdown",
   "metadata": {},
   "source": [
    "<b>7.Calculating the potential density of anomaly with reference pressure</b>\n"
   ]
  },
  {
   "cell_type": "code",
   "execution_count": 31,
   "metadata": {},
   "outputs": [
    {
     "data": {
      "text/plain": [
       "2-element Array{Float64,1}:\n",
       " 15.526794528021924\n",
       " 10.932838722273118"
      ]
     },
     "execution_count": 31,
     "metadata": {},
     "output_type": "execute_result"
    }
   ],
   "source": [
    "ct=[34.5,35.05] # conservative temperture\n",
    "sa=[28.8,22.7] # absolute salinity\n",
    "sigmaO=gsw_sigma0.(sa,ct)"
   ]
  },
  {
   "cell_type": "markdown",
   "metadata": {},
   "source": [
    "<b>8.Calculating ratio of practical salinity to conservative temperature</b>"
   ]
  },
  {
   "cell_type": "code",
   "execution_count": 30,
   "metadata": {},
   "outputs": [
    {
     "data": {
      "text/plain": [
       "6-element Array{Float64,1}:\n",
       " 0.3738409090224898\n",
       " 0.37187851497209873\n",
       " 0.3771046646221908\n",
       " 0.38277769679615625\n",
       " 0.3871338451519997\n",
       " 0.3939473160269136"
      ]
     },
     "execution_count": 30,
     "metadata": {},
     "output_type": "execute_result"
    }
   ],
   "source": [
    "SA = [34.7118, 34.8915, 35.0256, 34.8472, 34.7366, 34.7324]\n",
    "CT = [ 3.7856, 3.4329, 2.8103, 1.2600, 0.6886, 0.4403]\n",
    "p = [ 10.0, 50.0, 125.0, 250.0, 600.0, 1000]\n",
    "t_Ih = [-10.7856, -13.4329, -12.8103, -12.2600, -10.8863, -8.4036] # in situe temperature of the ice ath p pressure p\n",
    "melting_ice_SA_CT_ratio=gsw_melting_ice_sa_ct_ratio.(SA,CT,p,t_Ih)"
   ]
  },
  {
   "cell_type": "markdown",
   "metadata": {},
   "source": [
    "<b>9.Calculating conservative Temperature of the maximum density of seawater</b>\n"
   ]
  },
  {
   "cell_type": "code",
   "execution_count": 29,
   "metadata": {},
   "outputs": [
    {
     "data": {
      "text/plain": [
       "2-element Array{Float64,1}:\n",
       " 34.46541767129753\n",
       " 32.268428894258854"
      ]
     },
     "execution_count": 29,
     "metadata": {},
     "output_type": "execute_result"
    }
   ],
   "source": [
    "rho=[1021.86,1022.26] # density of seawater [kg/m²]\n",
    "ct=[28.2,22.05] # conservative temperture\n",
    "p=[10.0,50.0] # sea pressure\n",
    "sa=gsw_sa_from_rho.(rho,ct,p)"
   ]
  },
  {
   "cell_type": "markdown",
   "metadata": {},
   "source": [
    "<b>10.Calculating latent heat of evaporation of water from seawater</b>"
   ]
  },
  {
   "cell_type": "code",
   "execution_count": 28,
   "metadata": {},
   "outputs": [
    {
     "data": {
      "text/plain": [
       "2-element Array{Float64,1}:\n",
       " 2.431963327876637e6\n",
       " 2.4471032313880725e6"
      ]
     },
     "execution_count": 28,
     "metadata": {},
     "output_type": "execute_result"
    }
   ],
   "source": [
    "ct=[28.2,22.05] # conservative temperture\n",
    "sa=[28.8,22.7] # absolute salinity\n",
    "latentheat_eva_Ct=gsw_latentheat_evap_ct.(sa,ct)"
   ]
  },
  {
   "cell_type": "code",
   "execution_count": null,
   "metadata": {},
   "outputs": [],
   "source": []
  }
 ],
 "metadata": {
  "kernelspec": {
   "display_name": "Julia 1.5.0",
   "language": "julia",
   "name": "julia-1.5"
  },
  "language_info": {
   "file_extension": ".jl",
   "mimetype": "application/julia",
   "name": "julia",
   "version": "1.5.0"
  }
 },
 "nbformat": 4,
 "nbformat_minor": 4
}
